{
 "cells": [
  {
   "cell_type": "code",
   "execution_count": 12,
   "metadata": {},
   "outputs": [],
   "source": [
    "import polars as pl\n",
    "from pathlib import Path\n",
    "import matplotlib.pyplot as plt\n",
    "\n",
    "import pandas as pd\n",
    "\n",
    "data_root = Path(\n",
    "    \"/Users/larsankile/Library/CloudStorage/GoogleDrive-lars.ankile@gmail.com/My Drive/Datasets/defi-measurement/mev-boost/\"\n",
    ")"
   ]
  },
  {
   "cell_type": "code",
   "execution_count": 13,
   "metadata": {},
   "outputs": [],
   "source": [
    "root = Path(\"/Users/larsankile/code/v3-polars/v3/data\")\n",
    "\n",
    "swap_path = root / \"pool_swap_events/*.parquet\""
   ]
  },
  {
   "cell_type": "code",
   "execution_count": 3,
   "metadata": {},
   "outputs": [],
   "source": [
    "# Get a few rows\n",
    "df = pl.read_parquet(swap_path)"
   ]
  },
  {
   "cell_type": "code",
   "execution_count": 14,
   "metadata": {},
   "outputs": [],
   "source": [
    "mev = pd.read_parquet(data_root / \"openethdata_eth_data_clean.parquet\")"
   ]
  },
  {
   "cell_type": "code",
   "execution_count": 15,
   "metadata": {},
   "outputs": [
    {
     "data": {
      "text/plain": [
       "date               datetime64[us]\n",
       "slot                        int64\n",
       "block_number                int64\n",
       "relay                      object\n",
       "builder_pubkey             object\n",
       "proposer_pubkey            object\n",
       "mevboost_value            float64\n",
       "builder                    object\n",
       "validator                  object\n",
       "dtype: object"
      ]
     },
     "execution_count": 15,
     "metadata": {},
     "output_type": "execute_result"
    }
   ],
   "source": [
    "mev.dtypes"
   ]
  },
  {
   "cell_type": "code",
   "execution_count": 16,
   "metadata": {},
   "outputs": [
    {
     "data": {
      "text/plain": [
       "'15_537_940, 18_373_804'"
      ]
     },
     "execution_count": 16,
     "metadata": {},
     "output_type": "execute_result"
    }
   ],
   "source": [
    "f\"{mev.block_number.min():_}, {mev.block_number.max():_}\""
   ]
  },
  {
   "cell_type": "code",
   "execution_count": 17,
   "metadata": {},
   "outputs": [
    {
     "ename": "NameError",
     "evalue": "name 'df' is not defined",
     "output_type": "error",
     "traceback": [
      "\u001b[0;31m---------------------------------------------------------------------------\u001b[0m",
      "\u001b[0;31mNameError\u001b[0m                                 Traceback (most recent call last)",
      "Cell \u001b[0;32mIn[17], line 1\u001b[0m\n\u001b[0;32m----> 1\u001b[0m \u001b[43mdf\u001b[49m\u001b[38;5;241m.\u001b[39mshape, \u001b[38;5;124mf\u001b[39m\u001b[38;5;124m\"\u001b[39m\u001b[38;5;132;01m{\u001b[39;00mdf\u001b[38;5;241m.\u001b[39mshape[\u001b[38;5;241m0\u001b[39m]\u001b[38;5;132;01m:\u001b[39;00m\u001b[38;5;124m_\u001b[39m\u001b[38;5;132;01m}\u001b[39;00m\u001b[38;5;124m\"\u001b[39m\n",
      "\u001b[0;31mNameError\u001b[0m: name 'df' is not defined"
     ]
    }
   ],
   "source": [
    "df.shape, f\"{df.shape[0]:_}\""
   ]
  },
  {
   "cell_type": "code",
   "execution_count": 10,
   "metadata": {},
   "outputs": [
    {
     "data": {
      "text/plain": [
       "((3149325, 9), '3_149_325')"
      ]
     },
     "execution_count": 10,
     "metadata": {},
     "output_type": "execute_result"
    }
   ],
   "source": [
    "mev.shape, f\"{mev.shape[0]:_}\""
   ]
  },
  {
   "cell_type": "code",
   "execution_count": 11,
   "metadata": {},
   "outputs": [
    {
     "ename": "NameError",
     "evalue": "name 'df' is not defined",
     "output_type": "error",
     "traceback": [
      "\u001b[0;31m---------------------------------------------------------------------------\u001b[0m",
      "\u001b[0;31mNameError\u001b[0m                                 Traceback (most recent call last)",
      "Cell \u001b[0;32mIn[11], line 1\u001b[0m\n\u001b[0;32m----> 1\u001b[0m \u001b[43mdf\u001b[49m\u001b[38;5;241m.\u001b[39mcolumns\n",
      "\u001b[0;31mNameError\u001b[0m: name 'df' is not defined"
     ]
    }
   ],
   "source": [
    "df.columns"
   ]
  },
  {
   "cell_type": "code",
   "execution_count": null,
   "metadata": {},
   "outputs": [
    {
     "data": {
      "text/plain": [
       "'There are 19_676 unique pairs in the dataset'"
      ]
     },
     "execution_count": 10,
     "metadata": {},
     "output_type": "execute_result"
    }
   ],
   "source": [
    "f\"There are {df[\"address\"].n_unique():_} unique pairs in the dataset\""
   ]
  },
  {
   "cell_type": "code",
   "execution_count": 34,
   "metadata": {},
   "outputs": [
    {
     "data": {
      "text/plain": [
       "array([       0,        0,        0, ..., 18373885, 18373886, 18373887])"
      ]
     },
     "execution_count": 34,
     "metadata": {},
     "output_type": "execute_result"
    }
   ],
   "source": [
    "# Check if the block_number has holes in mev df\n",
    "block_numbers = mev[\"block_number\"].sort()\n",
    "block_numbers"
   ]
  },
  {
   "cell_type": "code",
   "execution_count": 41,
   "metadata": {},
   "outputs": [
    {
     "data": {
      "text/html": [
       "<div><style>\n",
       ".dataframe > thead > tr,\n",
       ".dataframe > tbody > tr {\n",
       "  text-align: right;\n",
       "  white-space: pre-wrap;\n",
       "}\n",
       "</style>\n",
       "<small>shape: (200, 9)</small><table border=\"1\" class=\"dataframe\"><thead><tr><th>date</th><th>slot</th><th>block_number</th><th>relay</th><th>builder_pubkey</th><th>proposer_pubkey</th><th>mevboost_value</th><th>builder</th><th>validator</th></tr><tr><td>datetime[μs]</td><td>i64</td><td>i64</td><td>str</td><td>str</td><td>str</td><td>f64</td><td>str</td><td>str</td></tr></thead><tbody><tr><td>2022-09-15 06:53:23</td><td>4700065</td><td>0</td><td>null</td><td>null</td><td>&quot;missed&quot;</td><td>null</td><td>null</td><td>&quot;missed&quot;</td></tr><tr><td>2022-09-15 07:02:59</td><td>4700113</td><td>0</td><td>null</td><td>null</td><td>&quot;missed&quot;</td><td>null</td><td>null</td><td>&quot;missed&quot;</td></tr><tr><td>2022-09-15 07:17:35</td><td>4700186</td><td>0</td><td>null</td><td>null</td><td>&quot;missed&quot;</td><td>null</td><td>null</td><td>&quot;missed&quot;</td></tr><tr><td>2022-09-15 07:23:59</td><td>4700218</td><td>0</td><td>null</td><td>null</td><td>&quot;missed&quot;</td><td>null</td><td>null</td><td>&quot;missed&quot;</td></tr><tr><td>2022-09-15 08:13:35</td><td>4700466</td><td>0</td><td>null</td><td>null</td><td>&quot;missed&quot;</td><td>null</td><td>null</td><td>&quot;missed&quot;</td></tr><tr><td>&hellip;</td><td>&hellip;</td><td>&hellip;</td><td>&hellip;</td><td>&hellip;</td><td>&hellip;</td><td>&hellip;</td><td>&hellip;</td><td>&hellip;</td></tr><tr><td>2022-09-17 06:11:59</td><td>4714258</td><td>0</td><td>null</td><td>null</td><td>&quot;missed&quot;</td><td>null</td><td>null</td><td>&quot;missed&quot;</td></tr><tr><td>2022-09-17 06:16:59</td><td>4714283</td><td>0</td><td>null</td><td>null</td><td>&quot;missed&quot;</td><td>null</td><td>null</td><td>&quot;missed&quot;</td></tr><tr><td>2022-09-17 07:45:35</td><td>4714726</td><td>0</td><td>null</td><td>null</td><td>&quot;missed&quot;</td><td>null</td><td>null</td><td>&quot;missed&quot;</td></tr><tr><td>2022-09-17 07:48:11</td><td>4714739</td><td>0</td><td>null</td><td>null</td><td>&quot;missed&quot;</td><td>null</td><td>null</td><td>&quot;missed&quot;</td></tr><tr><td>2022-09-17 07:50:47</td><td>4714752</td><td>0</td><td>null</td><td>null</td><td>&quot;missed&quot;</td><td>null</td><td>null</td><td>&quot;missed&quot;</td></tr></tbody></table></div>"
      ],
      "text/plain": [
       "shape: (200, 9)\n",
       "┌─────────────┬─────────┬─────────────┬───────┬───┬─────────────┬────────────┬─────────┬───────────┐\n",
       "│ date        ┆ slot    ┆ block_numbe ┆ relay ┆ … ┆ proposer_pu ┆ mevboost_v ┆ builder ┆ validator │\n",
       "│ ---         ┆ ---     ┆ r           ┆ ---   ┆   ┆ bkey        ┆ alue       ┆ ---     ┆ ---       │\n",
       "│ datetime[μs ┆ i64     ┆ ---         ┆ str   ┆   ┆ ---         ┆ ---        ┆ str     ┆ str       │\n",
       "│ ]           ┆         ┆ i64         ┆       ┆   ┆ str         ┆ f64        ┆         ┆           │\n",
       "╞═════════════╪═════════╪═════════════╪═══════╪═══╪═════════════╪════════════╪═════════╪═══════════╡\n",
       "│ 2022-09-15  ┆ 4700065 ┆ 0           ┆ null  ┆ … ┆ missed      ┆ null       ┆ null    ┆ missed    │\n",
       "│ 06:53:23    ┆         ┆             ┆       ┆   ┆             ┆            ┆         ┆           │\n",
       "│ 2022-09-15  ┆ 4700113 ┆ 0           ┆ null  ┆ … ┆ missed      ┆ null       ┆ null    ┆ missed    │\n",
       "│ 07:02:59    ┆         ┆             ┆       ┆   ┆             ┆            ┆         ┆           │\n",
       "│ 2022-09-15  ┆ 4700186 ┆ 0           ┆ null  ┆ … ┆ missed      ┆ null       ┆ null    ┆ missed    │\n",
       "│ 07:17:35    ┆         ┆             ┆       ┆   ┆             ┆            ┆         ┆           │\n",
       "│ 2022-09-15  ┆ 4700218 ┆ 0           ┆ null  ┆ … ┆ missed      ┆ null       ┆ null    ┆ missed    │\n",
       "│ 07:23:59    ┆         ┆             ┆       ┆   ┆             ┆            ┆         ┆           │\n",
       "│ 2022-09-15  ┆ 4700466 ┆ 0           ┆ null  ┆ … ┆ missed      ┆ null       ┆ null    ┆ missed    │\n",
       "│ 08:13:35    ┆         ┆             ┆       ┆   ┆             ┆            ┆         ┆           │\n",
       "│ …           ┆ …       ┆ …           ┆ …     ┆ … ┆ …           ┆ …          ┆ …       ┆ …         │\n",
       "│ 2022-09-17  ┆ 4714258 ┆ 0           ┆ null  ┆ … ┆ missed      ┆ null       ┆ null    ┆ missed    │\n",
       "│ 06:11:59    ┆         ┆             ┆       ┆   ┆             ┆            ┆         ┆           │\n",
       "│ 2022-09-17  ┆ 4714283 ┆ 0           ┆ null  ┆ … ┆ missed      ┆ null       ┆ null    ┆ missed    │\n",
       "│ 06:16:59    ┆         ┆             ┆       ┆   ┆             ┆            ┆         ┆           │\n",
       "│ 2022-09-17  ┆ 4714726 ┆ 0           ┆ null  ┆ … ┆ missed      ┆ null       ┆ null    ┆ missed    │\n",
       "│ 07:45:35    ┆         ┆             ┆       ┆   ┆             ┆            ┆         ┆           │\n",
       "│ 2022-09-17  ┆ 4714739 ┆ 0           ┆ null  ┆ … ┆ missed      ┆ null       ┆ null    ┆ missed    │\n",
       "│ 07:48:11    ┆         ┆             ┆       ┆   ┆             ┆            ┆         ┆           │\n",
       "│ 2022-09-17  ┆ 4714752 ┆ 0           ┆ null  ┆ … ┆ missed      ┆ null       ┆ null    ┆ missed    │\n",
       "│ 07:50:47    ┆         ┆             ┆       ┆   ┆             ┆            ┆         ┆           │\n",
       "└─────────────┴─────────┴─────────────┴───────┴───┴─────────────┴────────────┴─────────┴───────────┘"
      ]
     },
     "execution_count": 41,
     "metadata": {},
     "output_type": "execute_result"
    }
   ],
   "source": [
    "mev.sort(by=[\"block_number\", \"slot\"]).head(200)"
   ]
  },
  {
   "cell_type": "code",
   "execution_count": 50,
   "metadata": {},
   "outputs": [
    {
     "data": {
      "text/html": [
       "<div><style>\n",
       ".dataframe > thead > tr,\n",
       ".dataframe > tbody > tr {\n",
       "  text-align: right;\n",
       "  white-space: pre-wrap;\n",
       "}\n",
       "</style>\n",
       "<small>shape: (2_835_688, 2)</small><table border=\"1\" class=\"dataframe\"><thead><tr><th>block_number</th><th>len</th></tr><tr><td>i64</td><td>u32</td></tr></thead><tbody><tr><td>0</td><td>23281</td></tr><tr><td>18080927</td><td>8</td></tr><tr><td>18067890</td><td>8</td></tr><tr><td>17601281</td><td>8</td></tr><tr><td>18043334</td><td>8</td></tr><tr><td>&hellip;</td><td>&hellip;</td></tr><tr><td>16317325</td><td>1</td></tr><tr><td>16538603</td><td>1</td></tr><tr><td>15965770</td><td>1</td></tr><tr><td>15687507</td><td>1</td></tr><tr><td>16999597</td><td>1</td></tr></tbody></table></div>"
      ],
      "text/plain": [
       "shape: (2_835_688, 2)\n",
       "┌──────────────┬───────┐\n",
       "│ block_number ┆ len   │\n",
       "│ ---          ┆ ---   │\n",
       "│ i64          ┆ u32   │\n",
       "╞══════════════╪═══════╡\n",
       "│ 0            ┆ 23281 │\n",
       "│ 18080927     ┆ 8     │\n",
       "│ 18067890     ┆ 8     │\n",
       "│ 17601281     ┆ 8     │\n",
       "│ 18043334     ┆ 8     │\n",
       "│ …            ┆ …     │\n",
       "│ 16317325     ┆ 1     │\n",
       "│ 16538603     ┆ 1     │\n",
       "│ 15965770     ┆ 1     │\n",
       "│ 15687507     ┆ 1     │\n",
       "│ 16999597     ┆ 1     │\n",
       "└──────────────┴───────┘"
      ]
     },
     "execution_count": 50,
     "metadata": {},
     "output_type": "execute_result"
    }
   ],
   "source": [
    "mev.group_by(\"block_number\").len().sort(by=\"len\", descending=True)"
   ]
  },
  {
   "cell_type": "code",
   "execution_count": 54,
   "metadata": {},
   "outputs": [
    {
     "data": {
      "text/html": [
       "<div><style>\n",
       ".dataframe > thead > tr,\n",
       ".dataframe > tbody > tr {\n",
       "  text-align: right;\n",
       "  white-space: pre-wrap;\n",
       "}\n",
       "</style>\n",
       "<small>shape: (8, 9)</small><table border=\"1\" class=\"dataframe\"><thead><tr><th>date</th><th>slot</th><th>block_number</th><th>relay</th><th>builder_pubkey</th><th>proposer_pubkey</th><th>mevboost_value</th><th>builder</th><th>validator</th></tr><tr><td>datetime[μs]</td><td>i64</td><td>i64</td><td>str</td><td>str</td><td>str</td><td>f64</td><td>str</td><td>str</td></tr></thead><tbody><tr><td>2023-09-07 00:18:35</td><td>7268491</td><td>18080927</td><td>&quot;bloxroute (max profit)&quot;</td><td>&quot;0x94a076b27f294dc44b9fd44d8e2b…</td><td>&quot;0x88d5c3662b37a2704aed3ca62b3b…</td><td>1.1587e17</td><td>&quot;Titan Builder&quot;</td><td>&quot;0x88d5c3662b37a2704aed3ca62b3b…</td></tr><tr><td>2023-09-07 00:18:35</td><td>7268491</td><td>18080927</td><td>&quot;blocknative&quot;</td><td>&quot;0x94a076b27f294dc44b9fd44d8e2b…</td><td>&quot;0x88d5c3662b37a2704aed3ca62b3b…</td><td>1.1587e17</td><td>&quot;Titan Builder&quot;</td><td>&quot;0x88d5c3662b37a2704aed3ca62b3b…</td></tr><tr><td>2023-09-07 00:18:35</td><td>7268491</td><td>18080927</td><td>&quot;ultrasound&quot;</td><td>&quot;0x94a076b27f294dc44b9fd44d8e2b…</td><td>&quot;0x88d5c3662b37a2704aed3ca62b3b…</td><td>1.1587e17</td><td>&quot;Titan Builder&quot;</td><td>&quot;0x88d5c3662b37a2704aed3ca62b3b…</td></tr><tr><td>2023-09-07 00:18:35</td><td>7268491</td><td>18080927</td><td>&quot;eden&quot;</td><td>&quot;0x94a076b27f294dc44b9fd44d8e2b…</td><td>&quot;0x88d5c3662b37a2704aed3ca62b3b…</td><td>1.1587e17</td><td>&quot;Titan Builder&quot;</td><td>&quot;0x88d5c3662b37a2704aed3ca62b3b…</td></tr><tr><td>2023-09-07 00:18:35</td><td>7268491</td><td>18080927</td><td>&quot;bloxroute (regulated)&quot;</td><td>&quot;0x94a076b27f294dc44b9fd44d8e2b…</td><td>&quot;0x88d5c3662b37a2704aed3ca62b3b…</td><td>1.1587e17</td><td>&quot;Titan Builder&quot;</td><td>&quot;0x88d5c3662b37a2704aed3ca62b3b…</td></tr><tr><td>2023-09-07 00:18:35</td><td>7268491</td><td>18080927</td><td>&quot;flashbots&quot;</td><td>&quot;0x94a076b27f294dc44b9fd44d8e2b…</td><td>&quot;0x88d5c3662b37a2704aed3ca62b3b…</td><td>1.1587e17</td><td>&quot;Titan Builder&quot;</td><td>&quot;0x88d5c3662b37a2704aed3ca62b3b…</td></tr><tr><td>2023-09-07 00:18:35</td><td>7268491</td><td>18080927</td><td>&quot;agnostic Gnosis&quot;</td><td>&quot;0x94a076b27f294dc44b9fd44d8e2b…</td><td>&quot;0x88d5c3662b37a2704aed3ca62b3b…</td><td>1.1587e17</td><td>&quot;Titan Builder&quot;</td><td>&quot;0x88d5c3662b37a2704aed3ca62b3b…</td></tr><tr><td>2023-09-07 00:18:35</td><td>7268491</td><td>18080927</td><td>&quot;aestus&quot;</td><td>&quot;0x94a076b27f294dc44b9fd44d8e2b…</td><td>&quot;0x88d5c3662b37a2704aed3ca62b3b…</td><td>1.1587e17</td><td>&quot;Titan Builder&quot;</td><td>&quot;0x88d5c3662b37a2704aed3ca62b3b…</td></tr></tbody></table></div>"
      ],
      "text/plain": [
       "shape: (8, 9)\n",
       "┌────────────┬─────────┬───────────┬───────────┬───┬───────────┬───────────┬───────────┬───────────┐\n",
       "│ date       ┆ slot    ┆ block_num ┆ relay     ┆ … ┆ proposer_ ┆ mevboost_ ┆ builder   ┆ validator │\n",
       "│ ---        ┆ ---     ┆ ber       ┆ ---       ┆   ┆ pubkey    ┆ value     ┆ ---       ┆ ---       │\n",
       "│ datetime[μ ┆ i64     ┆ ---       ┆ str       ┆   ┆ ---       ┆ ---       ┆ str       ┆ str       │\n",
       "│ s]         ┆         ┆ i64       ┆           ┆   ┆ str       ┆ f64       ┆           ┆           │\n",
       "╞════════════╪═════════╪═══════════╪═══════════╪═══╪═══════════╪═══════════╪═══════════╪═══════════╡\n",
       "│ 2023-09-07 ┆ 7268491 ┆ 18080927  ┆ bloxroute ┆ … ┆ 0x88d5c36 ┆ 1.1587e17 ┆ Titan     ┆ 0x88d5c36 │\n",
       "│ 00:18:35   ┆         ┆           ┆ (max      ┆   ┆ 62b37a270 ┆           ┆ Builder   ┆ 62b37a270 │\n",
       "│            ┆         ┆           ┆ profit)   ┆   ┆ 4aed3ca62 ┆           ┆           ┆ 4aed3ca62 │\n",
       "│            ┆         ┆           ┆           ┆   ┆ b3b…      ┆           ┆           ┆ b3b…      │\n",
       "│ 2023-09-07 ┆ 7268491 ┆ 18080927  ┆ blocknati ┆ … ┆ 0x88d5c36 ┆ 1.1587e17 ┆ Titan     ┆ 0x88d5c36 │\n",
       "│ 00:18:35   ┆         ┆           ┆ ve        ┆   ┆ 62b37a270 ┆           ┆ Builder   ┆ 62b37a270 │\n",
       "│            ┆         ┆           ┆           ┆   ┆ 4aed3ca62 ┆           ┆           ┆ 4aed3ca62 │\n",
       "│            ┆         ┆           ┆           ┆   ┆ b3b…      ┆           ┆           ┆ b3b…      │\n",
       "│ 2023-09-07 ┆ 7268491 ┆ 18080927  ┆ ultrasoun ┆ … ┆ 0x88d5c36 ┆ 1.1587e17 ┆ Titan     ┆ 0x88d5c36 │\n",
       "│ 00:18:35   ┆         ┆           ┆ d         ┆   ┆ 62b37a270 ┆           ┆ Builder   ┆ 62b37a270 │\n",
       "│            ┆         ┆           ┆           ┆   ┆ 4aed3ca62 ┆           ┆           ┆ 4aed3ca62 │\n",
       "│            ┆         ┆           ┆           ┆   ┆ b3b…      ┆           ┆           ┆ b3b…      │\n",
       "│ 2023-09-07 ┆ 7268491 ┆ 18080927  ┆ eden      ┆ … ┆ 0x88d5c36 ┆ 1.1587e17 ┆ Titan     ┆ 0x88d5c36 │\n",
       "│ 00:18:35   ┆         ┆           ┆           ┆   ┆ 62b37a270 ┆           ┆ Builder   ┆ 62b37a270 │\n",
       "│            ┆         ┆           ┆           ┆   ┆ 4aed3ca62 ┆           ┆           ┆ 4aed3ca62 │\n",
       "│            ┆         ┆           ┆           ┆   ┆ b3b…      ┆           ┆           ┆ b3b…      │\n",
       "│ 2023-09-07 ┆ 7268491 ┆ 18080927  ┆ bloxroute ┆ … ┆ 0x88d5c36 ┆ 1.1587e17 ┆ Titan     ┆ 0x88d5c36 │\n",
       "│ 00:18:35   ┆         ┆           ┆ (regulate ┆   ┆ 62b37a270 ┆           ┆ Builder   ┆ 62b37a270 │\n",
       "│            ┆         ┆           ┆ d)        ┆   ┆ 4aed3ca62 ┆           ┆           ┆ 4aed3ca62 │\n",
       "│            ┆         ┆           ┆           ┆   ┆ b3b…      ┆           ┆           ┆ b3b…      │\n",
       "│ 2023-09-07 ┆ 7268491 ┆ 18080927  ┆ flashbots ┆ … ┆ 0x88d5c36 ┆ 1.1587e17 ┆ Titan     ┆ 0x88d5c36 │\n",
       "│ 00:18:35   ┆         ┆           ┆           ┆   ┆ 62b37a270 ┆           ┆ Builder   ┆ 62b37a270 │\n",
       "│            ┆         ┆           ┆           ┆   ┆ 4aed3ca62 ┆           ┆           ┆ 4aed3ca62 │\n",
       "│            ┆         ┆           ┆           ┆   ┆ b3b…      ┆           ┆           ┆ b3b…      │\n",
       "│ 2023-09-07 ┆ 7268491 ┆ 18080927  ┆ agnostic  ┆ … ┆ 0x88d5c36 ┆ 1.1587e17 ┆ Titan     ┆ 0x88d5c36 │\n",
       "│ 00:18:35   ┆         ┆           ┆ Gnosis    ┆   ┆ 62b37a270 ┆           ┆ Builder   ┆ 62b37a270 │\n",
       "│            ┆         ┆           ┆           ┆   ┆ 4aed3ca62 ┆           ┆           ┆ 4aed3ca62 │\n",
       "│            ┆         ┆           ┆           ┆   ┆ b3b…      ┆           ┆           ┆ b3b…      │\n",
       "│ 2023-09-07 ┆ 7268491 ┆ 18080927  ┆ aestus    ┆ … ┆ 0x88d5c36 ┆ 1.1587e17 ┆ Titan     ┆ 0x88d5c36 │\n",
       "│ 00:18:35   ┆         ┆           ┆           ┆   ┆ 62b37a270 ┆           ┆ Builder   ┆ 62b37a270 │\n",
       "│            ┆         ┆           ┆           ┆   ┆ 4aed3ca62 ┆           ┆           ┆ 4aed3ca62 │\n",
       "│            ┆         ┆           ┆           ┆   ┆ b3b…      ┆           ┆           ┆ b3b…      │\n",
       "└────────────┴─────────┴───────────┴───────────┴───┴───────────┴───────────┴───────────┴───────────┘"
      ]
     },
     "execution_count": 54,
     "metadata": {},
     "output_type": "execute_result"
    }
   ],
   "source": [
    "mev.filter(mev[\"block_number\"] == 18080927)"
   ]
  },
  {
   "cell_type": "code",
   "execution_count": null,
   "metadata": {},
   "outputs": [],
   "source": []
  }
 ],
 "metadata": {
  "kernelspec": {
   "display_name": "venv",
   "language": "python",
   "name": "python3"
  },
  "language_info": {
   "codemirror_mode": {
    "name": "ipython",
    "version": 3
   },
   "file_extension": ".py",
   "mimetype": "text/x-python",
   "name": "python",
   "nbconvert_exporter": "python",
   "pygments_lexer": "ipython3",
   "version": "3.12.0"
  }
 },
 "nbformat": 4,
 "nbformat_minor": 2
}
