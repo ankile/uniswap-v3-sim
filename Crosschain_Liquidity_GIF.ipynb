{
 "cells": [
  {
   "cell_type": "markdown",
   "id": "376eedad",
   "metadata": {},
   "source": [
    "## Initial Imports\n"
   ]
  },
  {
   "cell_type": "code",
   "execution_count": null,
   "id": "e91ff62e",
   "metadata": {
    "vscode": {
     "languageId": "shellscript"
    }
   },
   "outputs": [],
   "source": [
    "!pip install pandas numpy matplotlib pandas polars scipy"
   ]
  },
  {
   "cell_type": "code",
   "execution_count": null,
   "id": "d7b7210e",
   "metadata": {},
   "outputs": [],
   "source": [
    "import pandas as pd\n",
    "import numpy as np\n",
    "import math\n",
    "import matplotlib.pyplot as plt\n",
    "from scipy import sparse\n",
    "import matplotlib.animation as animation\n",
    "import os\n",
    "import time\n",
    "\n",
    "from typing import Tuple\n",
    "\n",
    "from collections import namedtuple\n",
    "import polars as pl\n",
    "\n",
    "from datetime import date, timedelta, datetime, timezone\n",
    "\n",
    "%load_ext autoreload\n",
    "%autoreload 2\n",
    "\n",
    "from v3 import state\n",
    "\n",
    "from matplotlib import font_manager\n",
    "\n",
    "font_files = font_manager.findSystemFonts(fontpaths=None, fontext=\"ttf\")\n",
    "\n",
    "for font_file in font_files:\n",
    "    try:\n",
    "        font_manager.fontManager.addfont(font_file)\n",
    "    except Exception as e:\n",
    "        pass"
   ]
  },
  {
   "cell_type": "markdown",
   "id": "e609ca91",
   "metadata": {},
   "source": [
    "## Setting up the data connectors\n"
   ]
  },
  {
   "cell_type": "markdown",
   "id": "8f1da024",
   "metadata": {},
   "source": [
    "### If you're using Allium (recommended)\n"
   ]
  },
  {
   "cell_type": "code",
   "execution_count": null,
   "id": "2c7a2ce7",
   "metadata": {},
   "outputs": [],
   "source": [
    "# add your credentials here\n",
    "# os.environ['ALLIUM_POLARSV3_QUERY_ID'] = 'abcdefg'\n",
    "# os.environ['ALLIUM_POLARSV3_API_KEY'] = 'deadbeef'\n",
    "\n",
    "update_from_source = \"allium\""
   ]
  },
  {
   "cell_type": "markdown",
   "id": "dcfa8fe5",
   "metadata": {},
   "source": [
    "### If you're using BigQuery\n",
    "\n",
    "(uncomment the lines in this section)\n"
   ]
  },
  {
   "cell_type": "code",
   "execution_count": null,
   "id": "b9d945c8",
   "metadata": {
    "vscode": {
     "languageId": "bat"
    }
   },
   "outputs": [],
   "source": [
    "# !pip install google-cloud-bigquery"
   ]
  },
  {
   "cell_type": "code",
   "execution_count": null,
   "id": "42cad50c",
   "metadata": {},
   "outputs": [],
   "source": [
    "# from google.cloud import bigquery\n",
    "\n",
    "# update_from_source = \"gbq\""
   ]
  },
  {
   "cell_type": "markdown",
   "id": "08cc05f3",
   "metadata": {},
   "source": [
    "## Usage\n"
   ]
  },
  {
   "cell_type": "code",
   "execution_count": null,
   "id": "5ad52038",
   "metadata": {},
   "outputs": [],
   "source": [
    "# read into all of the chain values and initialize their constructors\n",
    "starting = datetime(year=2023, month=11, day=1)\n",
    "\n",
    "address = \"0x85149247691df622eaf1a8bd0cafd40bc45154a9\"\n",
    "op = state.v3Pool(address, \"optimism\", update=True, update_from=update_from_source)\n",
    "priceOp = op.getPriceSeries(starting)\n",
    "\n",
    "address = \"0xc31e54c7a869b9fcbecc14363cf510d1c41fa443\"\n",
    "arb = state.v3Pool(address, \"arbitrum\", update=True, update_from=update_from_source)\n",
    "priceArb = arb.getPriceSeries(starting)\n",
    "\n",
    "address = \"0x88e6a0c2ddd26feeb64f039a2c41296fcb3f5640\"\n",
    "eth = state.v3Pool(address, \"ethereum\", update=True, update_from=update_from_source)\n",
    "priceEth = eth.getPriceSeries(starting)\n",
    "\n",
    "address = \"0x45dda9cb7c25131df268515131f647d726f50608\"\n",
    "polygon = state.v3Pool(address, \"polygon\", update=True, update_from=update_from_source)\n",
    "pricePoly = polygon.getPriceSeries(starting)"
   ]
  },
  {
   "cell_type": "code",
   "execution_count": null,
   "id": "f00bae0a",
   "metadata": {},
   "outputs": [],
   "source": [
    "import matplotlib.pylab as pylab\n",
    "\n",
    "# create the matplotlib params\n",
    "params = {\n",
    "    \"font.family\": \"Inter\",\n",
    "    \"font.size\": 16,\n",
    "    \"axes.facecolor\": \"#FAF9F6\",\n",
    "    \"savefig.facecolor\": \"#FAF9F6\",\n",
    "}\n",
    "\n",
    "pylab.rcParams.update(params)"
   ]
  },
  {
   "cell_type": "code",
   "execution_count": null,
   "id": "88a1a67a",
   "metadata": {},
   "outputs": [],
   "source": [
    "fig, ((ax1, ax2), (ax3, ax4)) = plt.subplots(2, 2, figsize=(15, 15))\n",
    "\n",
    "axes = (ax1, ax2, ax3, ax4)\n",
    "\n",
    "(line1,) = ax1.plot([], [], \"-\", color=\"#FA3492\", alpha=0.7)\n",
    "(line2,) = ax2.plot([], [], \"-\", color=\"#FA3492\", alpha=0.7)\n",
    "(line3,) = ax3.plot([], [], \"-\", color=\"#FA3492\", alpha=0.7)\n",
    "(line4,) = ax4.plot([], [], \"-\", color=\"#FA3492\", alpha=0.7)\n",
    "\n",
    "# matplotlib animations struggle with the y/x axis changing, so\n",
    "# we place it before anything else\n",
    "tick_low, tick_high = (-204079, -199644)\n",
    "price_high = (((1.0001 ** int(tick_high) * 1e12) // 100) + 1) * 100\n",
    "price_low = ((1.0001 ** int(tick_low) * 1e12) // 100) * 100\n",
    "\n",
    "for ax in axes:\n",
    "    ax.set_xlim(price_low, price_high)\n",
    "    ax.set_ylim(0, 1.25)\n",
    "    ax.set_xlabel(\"ETH/USDC exchange rate ($)\", fontfamily=\"Inter\", fontsize=12)\n",
    "    ax.set_ylabel(\"Liquidity at tick (normalized)\", fontfamily=\"Inter\", fontsize=12)\n",
    "\n",
    "vl1 = ax1.axvline(0, ls=\"-\", linewidth=0.5, color=\"black\", linestyle=\"--\", alpha=0.7)\n",
    "vl2 = ax2.axvline(0, ls=\"-\", linewidth=0.5, color=\"black\", linestyle=\"--\", alpha=0.7)\n",
    "vl3 = ax3.axvline(0, ls=\"-\", linewidth=0.5, color=\"black\", linestyle=\"--\", alpha=0.7)\n",
    "vl4 = ax4.axvline(0, ls=\"-\", linewidth=0.5, color=\"black\", linestyle=\"--\", alpha=0.7)\n",
    "\n",
    "\n",
    "def init():\n",
    "    vl1.set_data([], [])\n",
    "    vl2.set_data([], [])\n",
    "    vl3.set_data([], [])\n",
    "    vl4.set_data([], [])\n",
    "    return\n",
    "\n",
    "\n",
    "def animate(i, prices, pools, axes):\n",
    "    try:\n",
    "        for num in range(len(prices)):\n",
    "            price = prices[num]\n",
    "            row = price.slice(i, 1)\n",
    "            ts = row[\"block_timestamp\"].item()\n",
    "            tick = row[\"tick\"]\n",
    "            bn = row[\"block_number\"]\n",
    "\n",
    "            pool = pools[num]\n",
    "            liq = pool.createLiq(bn)\n",
    "\n",
    "            if num == 0 or num == 1:\n",
    "                tick_low, tick_high = (199644, 204079)\n",
    "                price_low, price_high = 1.0001**tick_low, 1.0001**tick_high\n",
    "\n",
    "                liq = (\n",
    "                    pool.createLiq(bn)\n",
    "                    .filter(\n",
    "                        (pl.col(\"tick\") >= tick_low) & ((pl.col(\"tick\") <= tick_high))\n",
    "                    )\n",
    "                    .with_columns(price=1 / ((1.0001 ** pl.col(\"tick\"))) * 1e12)\n",
    "                )\n",
    "                cur_px = 1 / ((1.0001**tick)) * 1e12\n",
    "\n",
    "            else:\n",
    "                tick_low, tick_high = (-204079, -199644)\n",
    "                price_low, price_high = 1.0001**tick_low, 1.0001**tick_high\n",
    "\n",
    "                liq = (\n",
    "                    pool.createLiq(bn)\n",
    "                    .filter(\n",
    "                        (pl.col(\"tick\") >= tick_low) & ((pl.col(\"tick\") <= tick_high))\n",
    "                    )\n",
    "                    .with_columns(price=(1.0001 ** pl.col(\"tick\") * 1e12))\n",
    "                )\n",
    "                cur_px = (1.0001**tick) * 1e12\n",
    "\n",
    "            max_liq = (\n",
    "                liq.select(\"liquidity\")\n",
    "                .with_columns(liquidity=pl.col(\"liquidity\").quantile(0.99))\n",
    "                .max()\n",
    "                .item()\n",
    "            )\n",
    "            min_liq = liq.select(\"liquidity\").min().item()\n",
    "\n",
    "            liq = liq.with_columns(\n",
    "                liquidity=(pl.col(\"liquidity\") - min_liq) / (max_liq - min_liq)\n",
    "            )\n",
    "\n",
    "            # the pool is inverted so we flip it to get weth/usdc price\n",
    "            if num == 0:\n",
    "                line1.set_xdata(liq[\"price\"])\n",
    "                line1.set_ydata(liq[\"liquidity\"])\n",
    "                vl1.set_xdata([cur_px, cur_px])\n",
    "            elif num == 1:\n",
    "                line2.set_xdata(liq[\"price\"])\n",
    "                line2.set_ydata(liq[\"liquidity\"])\n",
    "                vl2.set_xdata([cur_px, cur_px])\n",
    "            elif num == 2:\n",
    "                line3.set_xdata(liq[\"price\"])\n",
    "                line3.set_ydata(liq[\"liquidity\"])\n",
    "                vl3.set_xdata([cur_px, cur_px])\n",
    "            elif num == 3:\n",
    "                line4.set_xdata(liq[\"price\"])\n",
    "                line4.set_ydata(liq[\"liquidity\"])\n",
    "                vl4.set_xdata([cur_px, cur_px])\n",
    "\n",
    "        ax1.set_title(\"Ethereum\", fontfamily=\"Inter\", fontsize=20)\n",
    "        ax2.set_title(\"Polygon\", fontfamily=\"Inter\", fontsize=20)\n",
    "        ax3.set_title(\"Optimism\", fontfamily=\"Inter\", fontsize=20)\n",
    "        ax4.set_title(\"Arbitrum\", fontfamily=\"Inter\", fontsize=20)\n",
    "\n",
    "        ax1.set_yticks([0.25, 0.5, 0.75, 1], labels=[\"25%\", \"50%\", \"75%\", \"100%\"])\n",
    "        ax2.set_yticks([0.25, 0.5, 0.75, 1], labels=[\"25%\", \"50%\", \"75%\", \"100%\"])\n",
    "        ax3.set_yticks([0.25, 0.5, 0.75, 1], labels=[\"25%\", \"50%\", \"75%\", \"100%\"])\n",
    "        ax4.set_yticks([0.25, 0.5, 0.75, 1], labels=[\"25%\", \"50%\", \"75%\", \"100%\"])\n",
    "\n",
    "        plt.suptitle(\n",
    "            ts.strftime(\"Cross chain WETH/USDC 5bps - %m/%d/%Y Hour: %H\"),\n",
    "            fontfamily=\"Inter\",\n",
    "            fontsize=26,\n",
    "        )\n",
    "\n",
    "        return line1, line2, line3, line4, vl1, vl2, vl3, vl4\n",
    "    except Exception as e:\n",
    "        return line1, line2, line3, line4, vl1, vl2, vl3, vl4\n",
    "\n",
    "\n",
    "frames = priceEth.shape[0]\n",
    "ani = animation.FuncAnimation(\n",
    "    fig,\n",
    "    animate,\n",
    "    frames=frames,\n",
    "    fargs=((priceEth, pricePoly, priceOp, priceArb), (eth, polygon, op, arb), axes),\n",
    "    interval=100,\n",
    "    blit=True,\n",
    ")\n",
    "write = True\n",
    "if write:\n",
    "    f = \"assets/animation.gif\"\n",
    "    writergif = animation.PillowWriter(fps=15)\n",
    "    ani.save(f, writer=writergif)"
   ]
  },
  {
   "cell_type": "code",
   "execution_count": null,
   "id": "e399c37b",
   "metadata": {},
   "outputs": [],
   "source": []
  }
 ],
 "metadata": {
  "kernelspec": {
   "display_name": "Python 3 (ipykernel)",
   "language": "python",
   "name": "python3"
  },
  "language_info": {
   "codemirror_mode": {
    "name": "ipython",
    "version": 3
   },
   "file_extension": ".py",
   "mimetype": "text/x-python",
   "name": "python",
   "nbconvert_exporter": "python",
   "pygments_lexer": "ipython3",
   "version": "3.10.12"
  }
 },
 "nbformat": 4,
 "nbformat_minor": 5
}
