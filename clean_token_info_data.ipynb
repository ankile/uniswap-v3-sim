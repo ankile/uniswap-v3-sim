{
 "cells": [
  {
   "cell_type": "code",
   "execution_count": 26,
   "metadata": {},
   "outputs": [],
   "source": [
    "import polars as pl\n",
    "import pandas as pd\n",
    "from pathlib import Path"
   ]
  },
  {
   "cell_type": "code",
   "execution_count": 27,
   "metadata": {},
   "outputs": [],
   "source": [
    "base_path = Path(\n",
    "    \"/Users/larsankile/Library/CloudStorage/GoogleDrive-lars.ankile@gmail.com/My Drive/Datasets/defi-measurement/uniswap-v3\"\n",
    ")"
   ]
  },
  {
   "cell_type": "code",
   "execution_count": 28,
   "metadata": {},
   "outputs": [
    {
     "data": {
      "text/html": [
       "<div>\n",
       "<style scoped>\n",
       "    .dataframe tbody tr th:only-of-type {\n",
       "        vertical-align: middle;\n",
       "    }\n",
       "\n",
       "    .dataframe tbody tr th {\n",
       "        vertical-align: top;\n",
       "    }\n",
       "\n",
       "    .dataframe thead th {\n",
       "        text-align: right;\n",
       "    }\n",
       "</style>\n",
       "<table border=\"1\" class=\"dataframe\">\n",
       "  <thead>\n",
       "    <tr style=\"text-align: right;\">\n",
       "      <th></th>\n",
       "      <th>address</th>\n",
       "      <th>symbol</th>\n",
       "      <th>name</th>\n",
       "      <th>decimals</th>\n",
       "    </tr>\n",
       "  </thead>\n",
       "  <tbody>\n",
       "    <tr>\n",
       "      <th>0</th>\n",
       "      <td>0x1a3af03b90fd6af06fdff01628adc300273b2763</td>\n",
       "      <td>ONDAR</td>\n",
       "      <td>Ondar</td>\n",
       "      <td>15.0</td>\n",
       "    </tr>\n",
       "    <tr>\n",
       "      <th>1</th>\n",
       "      <td>0xe8a008eb06597258214cbd6b4d9ca84ba4a7a09f</td>\n",
       "      <td>STR</td>\n",
       "      <td>STOKR</td>\n",
       "      <td>16.0</td>\n",
       "    </tr>\n",
       "    <tr>\n",
       "      <th>2</th>\n",
       "      <td>0x00d3f1f0be97d9bea5e4bf398632bce35156f704</td>\n",
       "      <td>acom</td>\n",
       "      <td>阿童木 Automatic communication protocol</td>\n",
       "      <td>7.0</td>\n",
       "    </tr>\n",
       "    <tr>\n",
       "      <th>3</th>\n",
       "      <td>0x7fe0a2a9004bef89cd1e132b673ed16ae0a53ea2</td>\n",
       "      <td>CFT</td>\n",
       "      <td>Coinfrere</td>\n",
       "      <td>16.0</td>\n",
       "    </tr>\n",
       "    <tr>\n",
       "      <th>4</th>\n",
       "      <td>0xf8cc17a775cd8f422ed5d009100c5a0d05cdd6e0</td>\n",
       "      <td>Smg</td>\n",
       "      <td>See me good</td>\n",
       "      <td>16.0</td>\n",
       "    </tr>\n",
       "    <tr>\n",
       "      <th>...</th>\n",
       "      <td>...</td>\n",
       "      <td>...</td>\n",
       "      <td>...</td>\n",
       "      <td>...</td>\n",
       "    </tr>\n",
       "    <tr>\n",
       "      <th>218445</th>\n",
       "      <td>0x6d82f5a27717a696a540d8f78db3f40587e7b698</td>\n",
       "      <td>ET</td>\n",
       "      <td>ECOTOKEN</td>\n",
       "      <td>18.0</td>\n",
       "    </tr>\n",
       "    <tr>\n",
       "      <th>218446</th>\n",
       "      <td>0x8d8226ab0273e6f09ef88a723d2dd9051cc7508a</td>\n",
       "      <td>CON</td>\n",
       "      <td>Concrete</td>\n",
       "      <td>18.0</td>\n",
       "    </tr>\n",
       "    <tr>\n",
       "      <th>218447</th>\n",
       "      <td>0x7dd64708f1e02cef8fcd8a50f757e4c98a1dfb1e</td>\n",
       "      <td>CAR</td>\n",
       "      <td>CarBlock</td>\n",
       "      <td>18.0</td>\n",
       "    </tr>\n",
       "    <tr>\n",
       "      <th>218448</th>\n",
       "      <td>0x134c092911ddf39d4f16143e59f3d1b002304790</td>\n",
       "      <td>VT</td>\n",
       "      <td>VToken</td>\n",
       "      <td>18.0</td>\n",
       "    </tr>\n",
       "    <tr>\n",
       "      <th>218449</th>\n",
       "      <td>0x06230e77672f0e693b2f73d11efb16fa7e22d902</td>\n",
       "      <td>RESHARE</td>\n",
       "      <td>RESHARE</td>\n",
       "      <td>18.0</td>\n",
       "    </tr>\n",
       "  </tbody>\n",
       "</table>\n",
       "<p>218450 rows × 4 columns</p>\n",
       "</div>"
      ],
      "text/plain": [
       "                                           address   symbol  \\\n",
       "0       0x1a3af03b90fd6af06fdff01628adc300273b2763    ONDAR   \n",
       "1       0xe8a008eb06597258214cbd6b4d9ca84ba4a7a09f      STR   \n",
       "2       0x00d3f1f0be97d9bea5e4bf398632bce35156f704     acom   \n",
       "3       0x7fe0a2a9004bef89cd1e132b673ed16ae0a53ea2      CFT   \n",
       "4       0xf8cc17a775cd8f422ed5d009100c5a0d05cdd6e0      Smg   \n",
       "...                                            ...      ...   \n",
       "218445  0x6d82f5a27717a696a540d8f78db3f40587e7b698       ET   \n",
       "218446  0x8d8226ab0273e6f09ef88a723d2dd9051cc7508a      CON   \n",
       "218447  0x7dd64708f1e02cef8fcd8a50f757e4c98a1dfb1e      CAR   \n",
       "218448  0x134c092911ddf39d4f16143e59f3d1b002304790       VT   \n",
       "218449  0x06230e77672f0e693b2f73d11efb16fa7e22d902  RESHARE   \n",
       "\n",
       "                                        name  decimals  \n",
       "0                                      Ondar      15.0  \n",
       "1                                      STOKR      16.0  \n",
       "2       阿童木 Automatic communication protocol       7.0  \n",
       "3                                  Coinfrere      16.0  \n",
       "4                                See me good      16.0  \n",
       "...                                      ...       ...  \n",
       "218445                              ECOTOKEN      18.0  \n",
       "218446                              Concrete      18.0  \n",
       "218447                              CarBlock      18.0  \n",
       "218448                                VToken      18.0  \n",
       "218449                               RESHARE      18.0  \n",
       "\n",
       "[218450 rows x 4 columns]"
      ]
     },
     "execution_count": 28,
     "metadata": {},
     "output_type": "execute_result"
    }
   ],
   "source": [
    "df = pd.read_csv(base_path / \"bq-results-20240626-213005-1719437475872.csv\")\n",
    "\n",
    "df"
   ]
  },
  {
   "cell_type": "code",
   "execution_count": 29,
   "metadata": {},
   "outputs": [],
   "source": [
    "df = df[~df.symbol.isna()]\n",
    "df = df[~df.decimals.isna()]"
   ]
  },
  {
   "cell_type": "code",
   "execution_count": 30,
   "metadata": {},
   "outputs": [],
   "source": [
    "# Save it back to the same folder as a parquet file\n",
    "df.to_parquet(base_path / \"uniswap-v3-tokens.parquet\", index=False)"
   ]
  },
  {
   "cell_type": "code",
   "execution_count": 31,
   "metadata": {},
   "outputs": [],
   "source": [
    "# Load with polars to see if it works\n",
    "df = pl.read_parquet(base_path / \"uniswap-v3-tokens.parquet\")"
   ]
  },
  {
   "cell_type": "code",
   "execution_count": 32,
   "metadata": {},
   "outputs": [
    {
     "data": {
      "text/html": [
       "<div><style>\n",
       ".dataframe > thead > tr,\n",
       ".dataframe > tbody > tr {\n",
       "  text-align: right;\n",
       "  white-space: pre-wrap;\n",
       "}\n",
       "</style>\n",
       "<small>shape: (193_845, 4)</small><table border=\"1\" class=\"dataframe\"><thead><tr><th>address</th><th>symbol</th><th>name</th><th>decimals</th></tr><tr><td>str</td><td>str</td><td>str</td><td>f64</td></tr></thead><tbody><tr><td>&quot;0x1a3af03b90fd6af06fdff01628ad…</td><td>&quot;ONDAR&quot;</td><td>&quot;Ondar&quot;</td><td>15.0</td></tr><tr><td>&quot;0xe8a008eb06597258214cbd6b4d9c…</td><td>&quot;STR&quot;</td><td>&quot;STOKR&quot;</td><td>16.0</td></tr><tr><td>&quot;0x00d3f1f0be97d9bea5e4bf398632…</td><td>&quot;acom&quot;</td><td>&quot;阿童木 Automatic communication pr…</td><td>7.0</td></tr><tr><td>&quot;0x7fe0a2a9004bef89cd1e132b673e…</td><td>&quot;CFT&quot;</td><td>&quot;Coinfrere&quot;</td><td>16.0</td></tr><tr><td>&quot;0xf8cc17a775cd8f422ed5d009100c…</td><td>&quot;Smg&quot;</td><td>&quot;See me good&quot;</td><td>16.0</td></tr><tr><td>&hellip;</td><td>&hellip;</td><td>&hellip;</td><td>&hellip;</td></tr><tr><td>&quot;0x6d82f5a27717a696a540d8f78db3…</td><td>&quot;ET&quot;</td><td>&quot;ECOTOKEN&quot;</td><td>18.0</td></tr><tr><td>&quot;0x8d8226ab0273e6f09ef88a723d2d…</td><td>&quot;CON&quot;</td><td>&quot;Concrete&quot;</td><td>18.0</td></tr><tr><td>&quot;0x7dd64708f1e02cef8fcd8a50f757…</td><td>&quot;CAR&quot;</td><td>&quot;CarBlock&quot;</td><td>18.0</td></tr><tr><td>&quot;0x134c092911ddf39d4f16143e59f3…</td><td>&quot;VT&quot;</td><td>&quot;VToken&quot;</td><td>18.0</td></tr><tr><td>&quot;0x06230e77672f0e693b2f73d11efb…</td><td>&quot;RESHARE&quot;</td><td>&quot;RESHARE&quot;</td><td>18.0</td></tr></tbody></table></div>"
      ],
      "text/plain": [
       "shape: (193_845, 4)\n",
       "┌─────────────────────────────────┬─────────┬─────────────────────────────────┬──────────┐\n",
       "│ address                         ┆ symbol  ┆ name                            ┆ decimals │\n",
       "│ ---                             ┆ ---     ┆ ---                             ┆ ---      │\n",
       "│ str                             ┆ str     ┆ str                             ┆ f64      │\n",
       "╞═════════════════════════════════╪═════════╪═════════════════════════════════╪══════════╡\n",
       "│ 0x1a3af03b90fd6af06fdff01628ad… ┆ ONDAR   ┆ Ondar                           ┆ 15.0     │\n",
       "│ 0xe8a008eb06597258214cbd6b4d9c… ┆ STR     ┆ STOKR                           ┆ 16.0     │\n",
       "│ 0x00d3f1f0be97d9bea5e4bf398632… ┆ acom    ┆ 阿童木 Automatic communication  ┆ 7.0      │\n",
       "│                                 ┆         ┆ pr…                             ┆          │\n",
       "│ 0x7fe0a2a9004bef89cd1e132b673e… ┆ CFT     ┆ Coinfrere                       ┆ 16.0     │\n",
       "│ 0xf8cc17a775cd8f422ed5d009100c… ┆ Smg     ┆ See me good                     ┆ 16.0     │\n",
       "│ …                               ┆ …       ┆ …                               ┆ …        │\n",
       "│ 0x6d82f5a27717a696a540d8f78db3… ┆ ET      ┆ ECOTOKEN                        ┆ 18.0     │\n",
       "│ 0x8d8226ab0273e6f09ef88a723d2d… ┆ CON     ┆ Concrete                        ┆ 18.0     │\n",
       "│ 0x7dd64708f1e02cef8fcd8a50f757… ┆ CAR     ┆ CarBlock                        ┆ 18.0     │\n",
       "│ 0x134c092911ddf39d4f16143e59f3… ┆ VT      ┆ VToken                          ┆ 18.0     │\n",
       "│ 0x06230e77672f0e693b2f73d11efb… ┆ RESHARE ┆ RESHARE                         ┆ 18.0     │\n",
       "└─────────────────────────────────┴─────────┴─────────────────────────────────┴──────────┘"
      ]
     },
     "execution_count": 32,
     "metadata": {},
     "output_type": "execute_result"
    }
   ],
   "source": []
  },
  {
   "cell_type": "code",
   "execution_count": null,
   "metadata": {},
   "outputs": [],
   "source": []
  }
 ],
 "metadata": {
  "kernelspec": {
   "display_name": "venv",
   "language": "python",
   "name": "python3"
  },
  "language_info": {
   "codemirror_mode": {
    "name": "ipython",
    "version": 3
   },
   "file_extension": ".py",
   "mimetype": "text/x-python",
   "name": "python",
   "nbconvert_exporter": "python",
   "pygments_lexer": "ipython3",
   "version": "3.12.0b3"
  }
 },
 "nbformat": 4,
 "nbformat_minor": 2
}
