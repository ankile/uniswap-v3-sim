{
 "cells": [
  {
   "cell_type": "markdown",
   "id": "376eedad",
   "metadata": {},
   "source": [
    "## Initial Imports\n"
   ]
  },
  {
   "cell_type": "code",
   "execution_count": 1,
   "id": "fe374b2b",
   "metadata": {},
   "outputs": [],
   "source": [
    "%load_ext autoreload\n",
    "%autoreload 2"
   ]
  },
  {
   "cell_type": "code",
   "execution_count": 2,
   "id": "e91ff62e",
   "metadata": {
    "vscode": {
     "languageId": "shellscript"
    }
   },
   "outputs": [],
   "source": [
    "%%capture\n",
    "!pip install pandas numpy matplotlib pandas polars scipy requests python-dotenv"
   ]
  },
  {
   "cell_type": "code",
   "execution_count": 3,
   "id": "d7b7210e",
   "metadata": {},
   "outputs": [
    {
     "data": {
      "text/plain": [
       "True"
      ]
     },
     "execution_count": 3,
     "metadata": {},
     "output_type": "execute_result"
    }
   ],
   "source": [
    "from datetime import datetime\n",
    "from dotenv import load_dotenv\n",
    "\n",
    "load_dotenv(override=True)"
   ]
  },
  {
   "cell_type": "code",
   "execution_count": 4,
   "id": "657a9589",
   "metadata": {},
   "outputs": [],
   "source": [
    "from v3 import state\n",
    "\n",
    "from matplotlib import font_manager\n",
    "\n",
    "font_files = font_manager.findSystemFonts(fontpaths=None, fontext=\"ttf\")\n",
    "\n",
    "for font_file in font_files:\n",
    "    try:\n",
    "        font_manager.fontManager.addfont(font_file)\n",
    "    except Exception as e:\n",
    "        pass"
   ]
  },
  {
   "cell_type": "markdown",
   "id": "e609ca91",
   "metadata": {},
   "source": [
    "## Setting up the data connectors\n"
   ]
  },
  {
   "cell_type": "markdown",
   "id": "8f1da024",
   "metadata": {},
   "source": [
    "### If you're using Allium (recommended)\n"
   ]
  },
  {
   "cell_type": "code",
   "execution_count": 5,
   "id": "2c7a2ce7",
   "metadata": {},
   "outputs": [],
   "source": [
    "# add your credentials here\n",
    "update_from_source = \"allium\""
   ]
  },
  {
   "cell_type": "markdown",
   "id": "08cc05f3",
   "metadata": {},
   "source": [
    "## Usage\n"
   ]
  },
  {
   "cell_type": "code",
   "execution_count": 6,
   "id": "5ad52038",
   "metadata": {},
   "outputs": [
    {
     "data": {
      "text/html": [
       "<div><style>\n",
       ".dataframe > thead > tr,\n",
       ".dataframe > tbody > tr {\n",
       "  text-align: right;\n",
       "  white-space: pre-wrap;\n",
       "}\n",
       "</style>\n",
       "<small>shape: (942, 3)</small><table border=\"1\" class=\"dataframe\"><thead><tr><th>block_timestamp</th><th>block_number</th><th>tick</th></tr><tr><td>datetime[μs, UTC]</td><td>i64</td><td>i64</td></tr></thead><tbody><tr><td>2023-11-01 00:00:00 UTC</td><td>18475327</td><td>201357</td></tr><tr><td>2023-11-01 06:00:00 UTC</td><td>18477108</td><td>201362</td></tr><tr><td>2023-11-01 12:00:00 UTC</td><td>18478904</td><td>201326</td></tr><tr><td>2023-11-01 18:00:00 UTC</td><td>18480693</td><td>201111</td></tr><tr><td>2023-11-02 00:00:00 UTC</td><td>18482477</td><td>201164</td></tr><tr><td>&hellip;</td><td>&hellip;</td><td>&hellip;</td></tr><tr><td>2024-06-23 12:00:00 UTC</td><td>20156038</td><td>194800</td></tr><tr><td>2024-06-23 18:00:00 UTC</td><td>20157825</td><td>194945</td></tr><tr><td>2024-06-24 00:00:00 UTC</td><td>20159610</td><td>195122</td></tr><tr><td>2024-06-24 06:00:00 UTC</td><td>20161400</td><td>195245</td></tr><tr><td>2024-06-24 12:00:00 UTC</td><td>20161442</td><td>195224</td></tr></tbody></table></div>"
      ],
      "text/plain": [
       "shape: (942, 3)\n",
       "┌─────────────────────────┬──────────────┬────────┐\n",
       "│ block_timestamp         ┆ block_number ┆ tick   │\n",
       "│ ---                     ┆ ---          ┆ ---    │\n",
       "│ datetime[μs, UTC]       ┆ i64          ┆ i64    │\n",
       "╞═════════════════════════╪══════════════╪════════╡\n",
       "│ 2023-11-01 00:00:00 UTC ┆ 18475327     ┆ 201357 │\n",
       "│ 2023-11-01 06:00:00 UTC ┆ 18477108     ┆ 201362 │\n",
       "│ 2023-11-01 12:00:00 UTC ┆ 18478904     ┆ 201326 │\n",
       "│ 2023-11-01 18:00:00 UTC ┆ 18480693     ┆ 201111 │\n",
       "│ 2023-11-02 00:00:00 UTC ┆ 18482477     ┆ 201164 │\n",
       "│ …                       ┆ …            ┆ …      │\n",
       "│ 2024-06-23 12:00:00 UTC ┆ 20156038     ┆ 194800 │\n",
       "│ 2024-06-23 18:00:00 UTC ┆ 20157825     ┆ 194945 │\n",
       "│ 2024-06-24 00:00:00 UTC ┆ 20159610     ┆ 195122 │\n",
       "│ 2024-06-24 06:00:00 UTC ┆ 20161400     ┆ 195245 │\n",
       "│ 2024-06-24 12:00:00 UTC ┆ 20161442     ┆ 195224 │\n",
       "└─────────────────────────┴──────────────┴────────┘"
      ]
     },
     "execution_count": 6,
     "metadata": {},
     "output_type": "execute_result"
    }
   ],
   "source": [
    "# read into all of the chain values and initialize their constructors\n",
    "\n",
    "address = \"0x88e6a0c2ddd26feeb64f039a2c41296fcb3f5640\"\n",
    "eth = state.v3Pool(\n",
    "    address,\n",
    "    \"ethereum\",\n",
    "    update=False,\n",
    "    update_from=update_from_source,\n",
    "    # tgt_max_rows=100_000,\n",
    ")\n",
    "\n",
    "starting = datetime(year=2023, month=11, day=1)\n",
    "priceEth = eth.getPriceSeries(starting)\n",
    "\n",
    "priceEth"
   ]
  },
  {
   "cell_type": "code",
   "execution_count": 7,
   "id": "32cf3204",
   "metadata": {},
   "outputs": [
    {
     "data": {
      "text/plain": [
       "'/Users/larsankile/code/v3-polars/v3/data'"
      ]
     },
     "execution_count": 7,
     "metadata": {},
     "output_type": "execute_result"
    }
   ],
   "source": [
    "eth.data_path"
   ]
  },
  {
   "cell_type": "code",
   "execution_count": null,
   "id": "78970388",
   "metadata": {},
   "outputs": [],
   "source": []
  }
 ],
 "metadata": {
  "kernelspec": {
   "display_name": "Python 3 (ipykernel)",
   "language": "python",
   "name": "python3"
  },
  "language_info": {
   "codemirror_mode": {
    "name": "ipython",
    "version": 3
   },
   "file_extension": ".py",
   "mimetype": "text/x-python",
   "name": "python",
   "nbconvert_exporter": "python",
   "pygments_lexer": "ipython3",
   "version": "3.12.0"
  }
 },
 "nbformat": 4,
 "nbformat_minor": 5
}
