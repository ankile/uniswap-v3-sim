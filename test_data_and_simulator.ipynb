{
 "cells": [
  {
   "cell_type": "markdown",
   "id": "376eedad",
   "metadata": {},
   "source": [
    "## Initial Imports\n"
   ]
  },
  {
   "cell_type": "code",
   "execution_count": 2,
   "id": "fe374b2b",
   "metadata": {},
   "outputs": [],
   "source": [
    "%load_ext autoreload\n",
    "%autoreload 2"
   ]
  },
  {
   "cell_type": "code",
   "execution_count": 3,
   "id": "e91ff62e",
   "metadata": {
    "vscode": {
     "languageId": "shellscript"
    }
   },
   "outputs": [],
   "source": [
    "%%capture\n",
    "!pip install pandas numpy matplotlib pandas polars scipy requests python-dotenv"
   ]
  },
  {
   "cell_type": "code",
   "execution_count": 4,
   "id": "d7b7210e",
   "metadata": {},
   "outputs": [
    {
     "data": {
      "text/plain": [
       "True"
      ]
     },
     "execution_count": 4,
     "metadata": {},
     "output_type": "execute_result"
    }
   ],
   "source": [
    "from datetime import datetime\n",
    "from dotenv import load_dotenv\n",
    "\n",
    "load_dotenv(override=True)"
   ]
  },
  {
   "cell_type": "code",
   "execution_count": 5,
   "id": "657a9589",
   "metadata": {},
   "outputs": [],
   "source": [
    "from v3 import state\n",
    "\n",
    "from matplotlib import font_manager\n",
    "\n",
    "font_files = font_manager.findSystemFonts(fontpaths=None, fontext=\"ttf\")\n",
    "\n",
    "for font_file in font_files:\n",
    "    try:\n",
    "        font_manager.fontManager.addfont(font_file)\n",
    "    except Exception as e:\n",
    "        pass"
   ]
  },
  {
   "cell_type": "markdown",
   "id": "e609ca91",
   "metadata": {},
   "source": [
    "## Setting up the data connectors\n"
   ]
  },
  {
   "cell_type": "markdown",
   "id": "8f1da024",
   "metadata": {},
   "source": [
    "### If you're using Allium (recommended)\n"
   ]
  },
  {
   "cell_type": "code",
   "execution_count": 6,
   "id": "2c7a2ce7",
   "metadata": {},
   "outputs": [],
   "source": [
    "# add your credentials here\n",
    "update_from_source = \"allium\""
   ]
  },
  {
   "cell_type": "markdown",
   "id": "08cc05f3",
   "metadata": {},
   "source": [
    "## Usage\n"
   ]
  },
  {
   "cell_type": "code",
   "execution_count": 9,
   "id": "5ad52038",
   "metadata": {},
   "outputs": [
    {
     "name": "stdout",
     "output_type": "stream",
     "text": [
      "Starting table factory_pool_created\n"
     ]
    }
   ],
   "source": [
    "# read into all of the chain values and initialize their constructors\n",
    "# address = \"0x88e6a0c2ddd26feeb64f039a2c41296fcb3f5640\"\n",
    "address = \"0x448a70a160d6be76ec6cdf3a7ed9988d3eeebcd2\"\n",
    "eth = state.v3Pool(\n",
    "    address,\n",
    "    \"ethereum\",\n",
    "    update=True,\n",
    "    update_from=update_from_source,\n",
    ")\n",
    "\n",
    "starting = datetime(year=2023, month=11, day=1)\n",
    "priceEth = eth.getPriceSeries(starting)\n",
    "\n",
    "priceEth"
   ]
  },
  {
   "cell_type": "code",
   "execution_count": 7,
   "id": "32cf3204",
   "metadata": {},
   "outputs": [
    {
     "data": {
      "text/plain": [
       "'/Users/larsankile/code/v3-polars/v3/data'"
      ]
     },
     "execution_count": 7,
     "metadata": {},
     "output_type": "execute_result"
    }
   ],
   "source": [
    "eth.data_path"
   ]
  },
  {
   "cell_type": "code",
   "execution_count": null,
   "id": "78970388",
   "metadata": {},
   "outputs": [],
   "source": []
  }
 ],
 "metadata": {
  "kernelspec": {
   "display_name": "Python 3 (ipykernel)",
   "language": "python",
   "name": "python3"
  },
  "language_info": {
   "codemirror_mode": {
    "name": "ipython",
    "version": 3
   },
   "file_extension": ".py",
   "mimetype": "text/x-python",
   "name": "python",
   "nbconvert_exporter": "python",
   "pygments_lexer": "ipython3",
   "version": "3.12.0b3"
  }
 },
 "nbformat": 4,
 "nbformat_minor": 5
}
